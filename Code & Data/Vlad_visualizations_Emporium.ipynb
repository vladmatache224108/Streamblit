{
 "cells": [
  {
   "cell_type": "code",
   "execution_count": null,
   "metadata": {},
   "outputs": [],
   "source": [
    "import pandas\n",
    "import geopandas\n",
    "import numpy as np\n",
    "import matplotlib.pyplot as plt"
   ]
  },
  {
   "cell_type": "code",
   "execution_count": null,
   "metadata": {},
   "outputs": [],
   "source": [
    "def load_frame(type, path):\n",
    "    if type == 'pandas':\n",
    "        dataframe = pandas.read_csv(path)\n",
    "    else:\n",
    "        dataframe = geopandas.read_file(path)\n",
    "    return dataframe "
   ]
  },
  {
   "cell_type": "code",
   "execution_count": null,
   "metadata": {},
   "outputs": [],
   "source": [
    "full_join = load_frame('geopandas', 'data_merged/full_join.geojson')\n",
    "livability_green_index = load_frame('pandas', 'data_raw/green_live_buurt_complete.csv')\n",
    "house_price = load_frame('pandas', 'data_raw/housing_prices.csv')"
   ]
  },
  {
   "cell_type": "code",
   "execution_count": null,
   "metadata": {},
   "outputs": [],
   "source": [
    "full_join.columns"
   ]
  },
  {
   "cell_type": "code",
   "execution_count": null,
   "metadata": {},
   "outputs": [],
   "source": [
    "data = full_join\n",
    "\"\"\" data = data.rename(columns = {'neighborhood' : 'BUURT'})\n",
    "data = pandas.merge(data, house_price, how = 'right', on = 'BUURT')\n",
    "data = pandas.merge(data, livability_green_index, how = 'right', on = 'BUURT' ) \"\"\""
   ]
  },
  {
   "cell_type": "code",
   "execution_count": null,
   "metadata": {},
   "outputs": [],
   "source": [
    "data"
   ]
  },
  {
   "cell_type": "code",
   "execution_count": null,
   "metadata": {},
   "outputs": [],
   "source": [
    "full_join = full_join[full_join['green_score'].notna()]"
   ]
  },
  {
   "cell_type": "code",
   "execution_count": null,
   "metadata": {},
   "outputs": [],
   "source": [
    "# data = data.drop(['Unnamed: 0'], axis = 1)\n",
    "data = data.rename(columns = {'price_2022' : 'price'})\n",
    "data = data.rename(columns = {'neighborhood' : 'BUURT'})\n",
    "data['price'] = data['price'].replace(0,np.nan)\n",
    "data['price'] = data['price'].fillna(data['price'].mean())"
   ]
  },
  {
   "cell_type": "code",
   "execution_count": null,
   "metadata": {},
   "outputs": [],
   "source": []
  },
  {
   "cell_type": "code",
   "execution_count": null,
   "metadata": {},
   "outputs": [],
   "source": [
    "def plot_below(data,column):\n",
    "        data = data.sort_values(by = column, ascending= False).reset_index()\n",
    "        top_20 = data.head(20)\n",
    "        \n",
    "        fig, ax = plt.subplots(2)\n",
    "\n",
    "        ax[0].plot(top_20['BUURT'],top_20['price'])\n",
    "        ax[0].set_xticklabels(\n",
    "                top_20['BUURT'], rotation=45, ha='right', rotation_mode='anchor')\n",
    "        ax[0].title.set_text('Price')\n",
    "        ax[1].plot(top_20['BUURT'],top_20[column])\n",
    "        ax[1].set_xticklabels(\n",
    "                top_20['BUURT'], rotation=45, ha='right', rotation_mode='anchor')\n",
    "        ax[1].title.set_text(column)\n",
    "        fig.tight_layout()\n",
    "        print(\"Spearman's Corr for price and\",column, ' =', top_20['price'].corr(top_20[column], method='spearman'))"
   ]
  },
  {
   "attachments": {},
   "cell_type": "markdown",
   "metadata": {},
   "source": [
    "In statistics, Spearman's rank correlation coefficient is a nonparametric measure of rank correlation (statistical dependence between the rankings of two variables). It assesses how well the relationship between two variables can be described using a monotonic function.\n",
    "\n",
    "Translation for non-nerds: Spearman's correlation coefficient gives a better understanding of the following: will x definetly increase if we increase y?"
   ]
  },
  {
   "cell_type": "code",
   "execution_count": null,
   "metadata": {},
   "outputs": [],
   "source": [
    "image = plt.imread('Spearman.png') \n",
    "plt.imshow(image)"
   ]
  },
  {
   "attachments": {},
   "cell_type": "markdown",
   "metadata": {},
   "source": [
    "First Section | house price vs neighbourhood size"
   ]
  },
  {
   "cell_type": "code",
   "execution_count": null,
   "metadata": {},
   "outputs": [],
   "source": [
    "plot_below(data,'area_sqkm')"
   ]
  },
  {
   "cell_type": "code",
   "execution_count": null,
   "metadata": {},
   "outputs": [],
   "source": [
    "plot_below(data,'jobs_count')"
   ]
  },
  {
   "cell_type": "code",
   "execution_count": null,
   "metadata": {},
   "outputs": [],
   "source": [
    "plot_below(data,'inhabitants')"
   ]
  },
  {
   "attachments": {},
   "cell_type": "markdown",
   "metadata": {},
   "source": [
    "Second Section | house price vs safety/criminality"
   ]
  },
  {
   "cell_type": "code",
   "execution_count": null,
   "metadata": {},
   "outputs": [],
   "source": []
  },
  {
   "cell_type": "code",
   "execution_count": null,
   "metadata": {},
   "outputs": [],
   "source": [
    "plot_below(data,'drug_store_count')"
   ]
  },
  {
   "cell_type": "code",
   "execution_count": null,
   "metadata": {},
   "outputs": [],
   "source": [
    "plot_below(data,'Total felonies')"
   ]
  },
  {
   "cell_type": "code",
   "execution_count": null,
   "metadata": {},
   "outputs": [],
   "source": [
    "plot_below(data,'Theft of mopeds, mopeds and bicycles')"
   ]
  },
  {
   "attachments": {},
   "cell_type": "markdown",
   "metadata": {},
   "source": [
    "Third Section | house price vs livability/others"
   ]
  },
  {
   "cell_type": "code",
   "execution_count": null,
   "metadata": {},
   "outputs": [],
   "source": [
    "plot_below(data,'green_score')"
   ]
  },
  {
   "cell_type": "code",
   "execution_count": null,
   "metadata": {},
   "outputs": [],
   "source": [
    "plot_below(data,'livability_score')"
   ]
  },
  {
   "cell_type": "code",
   "execution_count": null,
   "metadata": {},
   "outputs": [],
   "source": [
    "plot_below(data, 'proximity_score')"
   ]
  },
  {
   "cell_type": "code",
   "execution_count": null,
   "metadata": {},
   "outputs": [],
   "source": [
    "data['jobs_count']"
   ]
  },
  {
   "attachments": {},
   "cell_type": "markdown",
   "metadata": {},
   "source": [
    "Keep in mind, 0 values for house prices have been replace with mean of house prices. (This will change corr coefficients)"
   ]
  },
  {
   "cell_type": "code",
   "execution_count": null,
   "metadata": {},
   "outputs": [],
   "source": [
    "columns = ['BUURT', 'light_count', 'sport_building_count', 'inhabitants', 'light_per_1000',\n",
    "       'sport_building_per_1000', 'area_sqkm', 'green_score',\n",
    "       'livability_score', 'price', 'jobs_count', 'Nuisance by confused person',\n",
    "       'Youth nuisance report', 'Nuisance due to alcohol/drugs','Public intoxication', 'Accidents (road)',\n",
    "       'Abuse', 'Discrimination','Drugs/drink nuisance', 'Home theft/burglary',\n",
    "       'Pickpocketing', 'Robbery', 'Shoplifting', 'Street robbery',\n",
    "       'Theft of mopeds, mopeds and bicycles',\n",
    "       'Theft/burglary box/garage/shed', 'Total felonies','drug_store_count', 'Childcare',\n",
    "       'proximity_score', 'geometry']"
   ]
  },
  {
   "cell_type": "code",
   "execution_count": null,
   "metadata": {},
   "outputs": [],
   "source": [
    "data_stripped = data"
   ]
  },
  {
   "cell_type": "code",
   "execution_count": null,
   "metadata": {},
   "outputs": [],
   "source": [
    "data_stripped['drug_store_count'].replace(np.nan,0, inplace=True)"
   ]
  },
  {
   "cell_type": "code",
   "execution_count": null,
   "metadata": {},
   "outputs": [],
   "source": [
    "data_stripped.dtypes"
   ]
  },
  {
   "cell_type": "code",
   "execution_count": null,
   "metadata": {},
   "outputs": [],
   "source": [
    "data_stripped['ultimate'] = (data_stripped['light_count']+ data_stripped['sport_building_count']\n",
    "                            +data_stripped['inhabitants']+ data_stripped['light_per_1000']\n",
    "                            +data_stripped['sport_building_per_1000']+ data_stripped['area_sqkm']+ data_stripped['green_score']\n",
    "                            +data_stripped['livability_score']+ data_stripped['jobs_count']+ data_stripped['Nuisance by confused person']\n",
    "                            +data_stripped['Youth nuisance report']+ data_stripped['Nuisance due to alcohol/drugs']+data_stripped['Public intoxication']\n",
    "                            +data_stripped['Accidents (road)']\n",
    "                            +data_stripped['Abuse']+ data_stripped['Discrimination']+data_stripped['Drugs/drink nuisance']+ data_stripped['Home theft/burglary']\n",
    "                            +data_stripped['Pickpocketing']+ data_stripped['Robbery']+ data_stripped['Shoplifting']+ data_stripped['Street robbery']\n",
    "                            +data_stripped['Theft of mopeds, mopeds and bicycles']\n",
    "                            +data_stripped['Theft/burglary box/garage/shed']+ data_stripped['Total felonies']+data_stripped['drug_store_count']\n",
    "                            +data_stripped['proximity_score']) / 28"
   ]
  },
  {
   "cell_type": "code",
   "execution_count": null,
   "metadata": {},
   "outputs": [],
   "source": [
    "mega_corr = data_stripped['price'].corr(data_stripped['ultimate'], method='spearman')"
   ]
  },
  {
   "cell_type": "code",
   "execution_count": null,
   "metadata": {},
   "outputs": [],
   "source": [
    "print(mega_corr)"
   ]
  },
  {
   "cell_type": "code",
   "execution_count": null,
   "metadata": {},
   "outputs": [],
   "source": [
    "data_stripped.columns"
   ]
  },
  {
   "cell_type": "code",
   "execution_count": null,
   "metadata": {},
   "outputs": [],
   "source": [
    "from sklearn import preprocessing"
   ]
  },
  {
   "cell_type": "code",
   "execution_count": null,
   "metadata": {},
   "outputs": [],
   "source": [
    "le = preprocessing.LabelEncoder()\n",
    "le.fit(data_stripped['BUURT'])\n",
    "data_stripped['BUURT'] = le.transform(data_stripped['BUURT'])"
   ]
  },
  {
   "cell_type": "code",
   "execution_count": null,
   "metadata": {},
   "outputs": [],
   "source": [
    "data_stripped = data_stripped.replace(np.nan, -1)"
   ]
  },
  {
   "cell_type": "code",
   "execution_count": null,
   "metadata": {},
   "outputs": [],
   "source": [
    "data_stripped.to_csv('data_merged/full_join_test.csv')"
   ]
  },
  {
   "cell_type": "code",
   "execution_count": null,
   "metadata": {},
   "outputs": [],
   "source": [
    "from sdv.datasets.local import load_csvs\n",
    "\n",
    "# assume that my_folder contains 1 CSV file named 'guests.csv'\n",
    "datasets = load_csvs(folder_name='data_merged/')\n",
    "\n",
    "# the data is available under the file name\n",
    "guests_table = datasets['full_join_test']"
   ]
  },
  {
   "cell_type": "code",
   "execution_count": null,
   "metadata": {},
   "outputs": [],
   "source": [
    "from sdv.single_table import CTGANSynthesizer\n",
    "from sdv.metadata import SingleTableMetadata\n",
    "\n",
    "metadata = SingleTableMetadata()\n",
    "metadata.detect_from_csv(filepath='data_merged/full_join_test.csv')"
   ]
  },
  {
   "cell_type": "code",
   "execution_count": null,
   "metadata": {},
   "outputs": [],
   "source": [
    "ctgan = CTGANSynthesizer(metadata,batch_size=10,epochs=1000, pac = 5 ,verbose=False)\n",
    "ctgan.fit(guests_table)\n",
    "ctgan.save('ctgan_full_join.pkl')\n",
    "samples = ctgan.sample(200)\n",
    "samples.head()"
   ]
  },
  {
   "cell_type": "code",
   "execution_count": null,
   "metadata": {},
   "outputs": [],
   "source": [
    "from sdv.evaluation.single_table import evaluate_quality\n",
    "\n",
    "quality_report = evaluate_quality(\n",
    "    real_data=guests_table,\n",
    "    synthetic_data=samples,\n",
    "    metadata=metadata)"
   ]
  },
  {
   "cell_type": "code",
   "execution_count": null,
   "metadata": {},
   "outputs": [],
   "source": [
    "synthetic_data = ctgan.sample(num_rows=500)"
   ]
  },
  {
   "cell_type": "code",
   "execution_count": null,
   "metadata": {},
   "outputs": [],
   "source": [
    "synthetic_data"
   ]
  },
  {
   "cell_type": "code",
   "execution_count": null,
   "metadata": {},
   "outputs": [],
   "source": [
    "quality_report = evaluate_quality(\n",
    "    real_data=guests_table,\n",
    "    synthetic_data=synthetic_data,\n",
    "    metadata=metadata)"
   ]
  },
  {
   "cell_type": "code",
   "execution_count": null,
   "metadata": {},
   "outputs": [],
   "source": [
    "synthetic_data['BUURT'] = le.inverse_transform(synthetic_data['BUURT'])"
   ]
  },
  {
   "cell_type": "code",
   "execution_count": null,
   "metadata": {},
   "outputs": [],
   "source": [
    "synthetic_data.to_csv('data_merged/fake_full_join.csv')"
   ]
  }
 ],
 "metadata": {
  "kernelspec": {
   "display_name": "Python 3",
   "language": "python",
   "name": "python3"
  },
  "language_info": {
   "codemirror_mode": {
    "name": "ipython",
    "version": 3
   },
   "file_extension": ".py",
   "mimetype": "text/x-python",
   "name": "python",
   "nbconvert_exporter": "python",
   "pygments_lexer": "ipython3",
   "version": "3.10.4"
  },
  "orig_nbformat": 4
 },
 "nbformat": 4,
 "nbformat_minor": 2
}
