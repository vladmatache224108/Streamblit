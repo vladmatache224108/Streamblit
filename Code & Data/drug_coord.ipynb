{
 "cells": [
  {
   "cell_type": "code",
   "execution_count": 3,
   "metadata": {},
   "outputs": [],
   "source": [
    "import pandas as pd\n",
    "\n",
    "# Load CSV file\n",
    "df = pd.read_csv('data_raw/drugs.csv')\n",
    "\n",
    "# Extract coordinates from URL column\n",
    "df['coordinates'] = df['url'].str.extract(r'@([0-9.-]+),([0-9.-]+),').apply(','.join, axis=1)\n",
    "df[['latitude', 'longitude']] = df['coordinates'].str.split(',', expand=True)\n",
    "df.drop('coordinates', axis=1, inplace=True)\n",
    "\n",
    "# Save updated CSV file\n",
    "df.to_csv('data_raw/drugscords.csv', index=False)"
   ]
  }
 ],
 "metadata": {
  "kernelspec": {
   "display_name": "base",
   "language": "python",
   "name": "python3"
  },
  "language_info": {
   "codemirror_mode": {
    "name": "ipython",
    "version": 3
   },
   "file_extension": ".py",
   "mimetype": "text/x-python",
   "name": "python",
   "nbconvert_exporter": "python",
   "pygments_lexer": "ipython3",
   "version": "3.7.16"
  },
  "orig_nbformat": 4
 },
 "nbformat": 4,
 "nbformat_minor": 2
}
