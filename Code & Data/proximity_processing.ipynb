{
 "cells": [
  {
   "cell_type": "code",
   "execution_count": 64,
   "metadata": {},
   "outputs": [],
   "source": [
    "import pandas\n",
    "import geopandas\n",
    "import numpy as np\n",
    "import matplotlib.pyplot as plt"
   ]
  },
  {
   "cell_type": "code",
   "execution_count": 65,
   "metadata": {},
   "outputs": [],
   "source": [
    "def load_frame(type, path):\n",
    "    if type == 'pandas':\n",
    "        dataframe = pandas.read_csv(path)\n",
    "    else:\n",
    "        dataframe = geopandas.read_file(path)\n",
    "    return dataframe "
   ]
  },
  {
   "cell_type": "code",
   "execution_count": 66,
   "metadata": {},
   "outputs": [],
   "source": [
    "full_join = load_frame('geopandas', 'data_merged/full_join.geojson')"
   ]
  },
  {
   "cell_type": "code",
   "execution_count": 67,
   "metadata": {},
   "outputs": [
    {
     "data": {
      "text/plain": [
       "Index(['regions', 'neighborhood', 'light_count', 'sport_building_count',\n",
       "       'workplace_count', 'inhabitants', 'light_per_1000',\n",
       "       'sport_building_per_1000', 'area_sqkm', 'green_score',\n",
       "       'livability_score', 'house_price', 'jobs_count',\n",
       "       'Total nuisance registrations', 'Nuisance by confused person',\n",
       "       'Youth nuisance report', 'Nuisance due to alcohol/drugs',\n",
       "       'Nuisance drifters', 'Public intoxication', 'Noise nuisance catering',\n",
       "       'Noise nuisance event', 'Other noise nuisance', 'Accidents (road)',\n",
       "       'Encroachment on public order', 'Fraud (other)', 'Horizontal Fraud',\n",
       "       'Human trafficking', 'Nature and landscape', 'Quality of life (other)',\n",
       "       'Road (other)', 'Spatial planning', 'Special Laws',\n",
       "       'Transport of hazardous substances', 'Under the influence (water)',\n",
       "       'Abuse', 'Air (other)', 'Animals', 'Arms Trade', 'Building materials',\n",
       "       'Cybercrime', 'Discrimination', 'Domestic Violation',\n",
       "       'Drug trafficking', 'Drugs/drink nuisance', 'Fire/Explosion',\n",
       "       'Fireworks', 'Food safety', 'Home theft/burglary', 'Immigration care',\n",
       "       'Most', 'Motor Vehicle Theft', 'Murder, Manslaughter',\n",
       "       'Neighbor rumor (relationship problems)', 'Open violence (person)',\n",
       "       'Other property crimes', 'People smuggling', 'Pesticides',\n",
       "       'Pickpocketing', 'Robbery', 'Shoplifting', 'Soil', 'Street robbery',\n",
       "       'Structure of the Environmental Management Act',\n",
       "       'Theft from/from motor vehicles',\n",
       "       'Theft of mopeds, mopeds and bicycles',\n",
       "       'Theft/burglary box/garage/shed', 'Theft/burglary of companies, etc.',\n",
       "       'Thefts (water)', 'Threat', 'Total felonies',\n",
       "       'Under the influence (air)', 'Under the influence (road)',\n",
       "       'Vertical Fraud', 'Waste', 'Water', 'drug_store_count', 'Childcare',\n",
       "       'Education', 'Health and well-being', 'Hospitality', 'Retail',\n",
       "       'geometry'],\n",
       "      dtype='object')"
      ]
     },
     "execution_count": 67,
     "metadata": {},
     "output_type": "execute_result"
    }
   ],
   "source": [
    "full_join.columns"
   ]
  },
  {
   "cell_type": "code",
   "execution_count": 68,
   "metadata": {},
   "outputs": [],
   "source": [
    "full_join['proximity_score'] = (full_join['Childcare']+full_join['Education']+full_join['Health and well-being']\n",
    "                                +full_join['Hospitality']+full_join['Retail']+full_join['sport_building_count']) / 6"
   ]
  },
  {
   "cell_type": "code",
   "execution_count": 69,
   "metadata": {},
   "outputs": [],
   "source": [
    "full_join.to_file('data_merged\\\\full_join.geojson', driver = 'GeoJSON')"
   ]
  },
  {
   "attachments": {},
   "cell_type": "markdown",
   "metadata": {},
   "source": []
  }
 ],
 "metadata": {
  "kernelspec": {
   "display_name": "Python 3",
   "language": "python",
   "name": "python3"
  },
  "language_info": {
   "codemirror_mode": {
    "name": "ipython",
    "version": 3
   },
   "file_extension": ".py",
   "mimetype": "text/x-python",
   "name": "python",
   "nbconvert_exporter": "python",
   "pygments_lexer": "ipython3",
   "version": "3.10.4"
  },
  "orig_nbformat": 4
 },
 "nbformat": 4,
 "nbformat_minor": 2
}
