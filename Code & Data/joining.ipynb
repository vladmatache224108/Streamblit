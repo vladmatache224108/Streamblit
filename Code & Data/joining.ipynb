{
 "cells": [
  {
   "cell_type": "code",
   "execution_count": 1,
   "metadata": {},
   "outputs": [],
   "source": [
    "import geopandas as gpd\n",
    "import pandas as pd"
   ]
  },
  {
   "cell_type": "code",
   "execution_count": 2,
   "metadata": {},
   "outputs": [],
   "source": [
    "def get_data(path, columns_to_delete=[], geo=False, sep=','):\n",
    "    '''\n",
    "    Function to load the data using pandas and geopandas.\n",
    "    Loads all geospacial data regardles of the file extention.\n",
    "    Non-geospatial data is limited to CSV files with definable separators.\n",
    "    Inputs:\n",
    "        path: file path to the data file\n",
    "        columns_to_delete: string or list with column names to drop (default: [])\n",
    "        geo: bool to define whether the file contains geospatial data (default: False)\n",
    "        sep: CSV separator (default: ',')\n",
    "    Returns:\n",
    "        A pandas.DataFrame object or a geopandas.GeoDataFrame\n",
    "        depending on the geo parameter\n",
    "    '''\n",
    "    if geo:\n",
    "        return (\n",
    "            gpd.read_file(path)\n",
    "                .drop(columns_to_delete, axis=1)\n",
    "        )\n",
    "    else:\n",
    "        return (\n",
    "            pd.read_csv(path, sep=sep)\n",
    "                .drop(columns_to_delete, axis=1)\n",
    "        )"
   ]
  },
  {
   "cell_type": "code",
   "execution_count": 3,
   "metadata": {},
   "outputs": [],
   "source": [
    "df_geo = get_data('data_raw\\\\utils.geojson', [], True)\n",
    "df_jobs = get_data('data_raw\\jobs_by_buurt.csv')\n",
    "df_green_neighborhood = get_data('data_raw\\green_live_buurt_complete.csv', 'Unnamed: 0')\n",
    "df_price = get_data('data_raw\\Housing Prices 2015-2022.csv')\n",
    "df_prox = get_data('data_raw\\proximity.csv')\n",
    "df_nuisance = get_data('data_raw\\\\nuisance.csv', sep=';')\n",
    "df_crime = get_data('data_raw\\crime_by_type.csv', 'Unnamed: 0')\n",
    "df_drugs = get_data('data_raw\\drugscords.csv', \n",
    "                    ['totalScore',\n",
    "                     'reviewsCount',\n",
    "                     'street',\n",
    "                     'city',\n",
    "                     'state',\n",
    "                     'countryCode',\n",
    "                     'website',\n",
    "                     'phone',\n",
    "                     'categoryName',\n",
    "                     'url'])"
   ]
  },
  {
   "cell_type": "code",
   "execution_count": 4,
   "metadata": {},
   "outputs": [],
   "source": [
    "df_drugs = gpd.GeoDataFrame(df_drugs,\n",
    "                            geometry=gpd.points_from_xy(df_drugs['longitude'], df_drugs['latitude'], crs=\"EPSG:4326\"))\n",
    "df_drugs = df_drugs.drop(['latitude', 'longitude'], axis=1)"
   ]
  },
  {
   "cell_type": "code",
   "execution_count": 5,
   "metadata": {},
   "outputs": [],
   "source": [
    "df_prox = df_prox[df_prox['within'] == 'Within 3 km'].drop(['Unnamed: 0', 'within'], axis=1)\n",
    "df_prox = df_prox.groupby(['zones', 'catetgory'], as_index=False)['Value'].sum()\n",
    "df_prox = df_prox.pivot_table(index='zones', columns='catetgory', values='Value')"
   ]
  },
  {
   "cell_type": "code",
   "execution_count": 6,
   "metadata": {},
   "outputs": [
    {
     "data": {
      "text/html": [
       "<div>\n",
       "<style scoped>\n",
       "    .dataframe tbody tr th:only-of-type {\n",
       "        vertical-align: middle;\n",
       "    }\n",
       "\n",
       "    .dataframe tbody tr th {\n",
       "        vertical-align: top;\n",
       "    }\n",
       "\n",
       "    .dataframe thead th {\n",
       "        text-align: right;\n",
       "    }\n",
       "</style>\n",
       "<table border=\"1\" class=\"dataframe\">\n",
       "  <thead>\n",
       "    <tr style=\"text-align: right;\">\n",
       "      <th></th>\n",
       "      <th>regions</th>\n",
       "      <th>neighborhood</th>\n",
       "      <th>light_count</th>\n",
       "      <th>sport_building_count</th>\n",
       "      <th>workplace_count</th>\n",
       "      <th>inhabitants</th>\n",
       "      <th>light_per_1000</th>\n",
       "      <th>sport_building_per_1000</th>\n",
       "      <th>area_sqkm</th>\n",
       "      <th>distance_from_centre_km</th>\n",
       "      <th>geometry</th>\n",
       "    </tr>\n",
       "  </thead>\n",
       "  <tbody>\n",
       "    <tr>\n",
       "      <th>0</th>\n",
       "      <td>Bavel</td>\n",
       "      <td>Bavel</td>\n",
       "      <td>1253</td>\n",
       "      <td>2</td>\n",
       "      <td>2</td>\n",
       "      <td>5445</td>\n",
       "      <td>230.119376</td>\n",
       "      <td>0.367309</td>\n",
       "      <td>1.750374</td>\n",
       "      <td>4.59422</td>\n",
       "      <td>POLYGON ((4.83844 51.56120, 4.83911 51.56024, ...</td>\n",
       "    </tr>\n",
       "  </tbody>\n",
       "</table>\n",
       "</div>"
      ],
      "text/plain": [
       "  regions neighborhood  light_count  sport_building_count  workplace_count  \\\n",
       "0   Bavel        Bavel         1253                     2                2   \n",
       "\n",
       "   inhabitants  light_per_1000  sport_building_per_1000  area_sqkm  \\\n",
       "0         5445      230.119376                 0.367309   1.750374   \n",
       "\n",
       "   distance_from_centre_km                                           geometry  \n",
       "0                  4.59422  POLYGON ((4.83844 51.56120, 4.83911 51.56024, ...  "
      ]
     },
     "execution_count": 6,
     "metadata": {},
     "output_type": "execute_result"
    }
   ],
   "source": [
    "df_geo.head(1)"
   ]
  },
  {
   "cell_type": "code",
   "execution_count": 7,
   "metadata": {},
   "outputs": [
    {
     "data": {
      "text/html": [
       "<div>\n",
       "<style scoped>\n",
       "    .dataframe tbody tr th:only-of-type {\n",
       "        vertical-align: middle;\n",
       "    }\n",
       "\n",
       "    .dataframe tbody tr th {\n",
       "        vertical-align: top;\n",
       "    }\n",
       "\n",
       "    .dataframe thead th {\n",
       "        text-align: right;\n",
       "    }\n",
       "</style>\n",
       "<table border=\"1\" class=\"dataframe\">\n",
       "  <thead>\n",
       "    <tr style=\"text-align: right;\">\n",
       "      <th></th>\n",
       "      <th>Buurt</th>\n",
       "      <th>Value</th>\n",
       "    </tr>\n",
       "  </thead>\n",
       "  <tbody>\n",
       "    <tr>\n",
       "      <th>0</th>\n",
       "      <td>Chassé</td>\n",
       "      <td>1920</td>\n",
       "    </tr>\n",
       "  </tbody>\n",
       "</table>\n",
       "</div>"
      ],
      "text/plain": [
       "    Buurt  Value\n",
       "0  Chassé   1920"
      ]
     },
     "execution_count": 7,
     "metadata": {},
     "output_type": "execute_result"
    }
   ],
   "source": [
    "df_jobs.head(1)"
   ]
  },
  {
   "cell_type": "code",
   "execution_count": 8,
   "metadata": {},
   "outputs": [
    {
     "data": {
      "text/html": [
       "<div>\n",
       "<style scoped>\n",
       "    .dataframe tbody tr th:only-of-type {\n",
       "        vertical-align: middle;\n",
       "    }\n",
       "\n",
       "    .dataframe tbody tr th {\n",
       "        vertical-align: top;\n",
       "    }\n",
       "\n",
       "    .dataframe thead th {\n",
       "        text-align: right;\n",
       "    }\n",
       "</style>\n",
       "<table border=\"1\" class=\"dataframe\">\n",
       "  <thead>\n",
       "    <tr style=\"text-align: right;\">\n",
       "      <th></th>\n",
       "      <th>BUURT</th>\n",
       "      <th>green_score</th>\n",
       "      <th>livability_score</th>\n",
       "    </tr>\n",
       "  </thead>\n",
       "  <tbody>\n",
       "    <tr>\n",
       "      <th>0</th>\n",
       "      <td>Bavel</td>\n",
       "      <td>30.375317</td>\n",
       "      <td>2.35557</td>\n",
       "    </tr>\n",
       "  </tbody>\n",
       "</table>\n",
       "</div>"
      ],
      "text/plain": [
       "   BUURT  green_score  livability_score\n",
       "0  Bavel    30.375317           2.35557"
      ]
     },
     "execution_count": 8,
     "metadata": {},
     "output_type": "execute_result"
    }
   ],
   "source": [
    "df_green_neighborhood.head(1)"
   ]
  },
  {
   "cell_type": "code",
   "execution_count": 9,
   "metadata": {},
   "outputs": [
    {
     "data": {
      "text/html": [
       "<div>\n",
       "<style scoped>\n",
       "    .dataframe tbody tr th:only-of-type {\n",
       "        vertical-align: middle;\n",
       "    }\n",
       "\n",
       "    .dataframe tbody tr th {\n",
       "        vertical-align: top;\n",
       "    }\n",
       "\n",
       "    .dataframe thead th {\n",
       "        text-align: right;\n",
       "    }\n",
       "</style>\n",
       "<table border=\"1\" class=\"dataframe\">\n",
       "  <thead>\n",
       "    <tr style=\"text-align: right;\">\n",
       "      <th></th>\n",
       "      <th>neighborhood</th>\n",
       "      <th>price_2015</th>\n",
       "      <th>price_2016</th>\n",
       "      <th>price_2017</th>\n",
       "      <th>price_2018</th>\n",
       "      <th>price_2019</th>\n",
       "      <th>price_2020</th>\n",
       "      <th>price_2021</th>\n",
       "      <th>price_2022</th>\n",
       "    </tr>\n",
       "  </thead>\n",
       "  <tbody>\n",
       "    <tr>\n",
       "      <th>0</th>\n",
       "      <td>Centrum</td>\n",
       "      <td>175000</td>\n",
       "      <td>173000</td>\n",
       "      <td>181000</td>\n",
       "      <td>195000</td>\n",
       "      <td>212000</td>\n",
       "      <td>231000</td>\n",
       "      <td>244000</td>\n",
       "      <td>264000</td>\n",
       "    </tr>\n",
       "  </tbody>\n",
       "</table>\n",
       "</div>"
      ],
      "text/plain": [
       "  neighborhood  price_2015  price_2016  price_2017  price_2018  price_2019  \\\n",
       "0      Centrum      175000      173000      181000      195000      212000   \n",
       "\n",
       "   price_2020  price_2021  price_2022  \n",
       "0      231000      244000      264000  "
      ]
     },
     "execution_count": 9,
     "metadata": {},
     "output_type": "execute_result"
    }
   ],
   "source": [
    "df_price = df_price.rename(columns={\n",
    "    '2015': 'price_2015',\n",
    "    '2016': 'price_2016',\n",
    "    '2017': 'price_2017',\n",
    "    '2018': 'price_2018',\n",
    "    '2019': 'price_2019',\n",
    "    '2020': 'price_2020',\n",
    "    '2021': 'price_2021',\n",
    "    '2022': 'price_2022'\n",
    "})\n",
    "df_price.head(1)"
   ]
  },
  {
   "cell_type": "code",
   "execution_count": 10,
   "metadata": {},
   "outputs": [
    {
     "data": {
      "text/html": [
       "<div>\n",
       "<style scoped>\n",
       "    .dataframe tbody tr th:only-of-type {\n",
       "        vertical-align: middle;\n",
       "    }\n",
       "\n",
       "    .dataframe tbody tr th {\n",
       "        vertical-align: top;\n",
       "    }\n",
       "\n",
       "    .dataframe thead th {\n",
       "        text-align: right;\n",
       "    }\n",
       "</style>\n",
       "<table border=\"1\" class=\"dataframe\">\n",
       "  <thead>\n",
       "    <tr style=\"text-align: right;\">\n",
       "      <th>catetgory</th>\n",
       "      <th>Childcare</th>\n",
       "      <th>Education</th>\n",
       "      <th>Health and well-being</th>\n",
       "      <th>Hospitality</th>\n",
       "      <th>Retail</th>\n",
       "    </tr>\n",
       "    <tr>\n",
       "      <th>zones</th>\n",
       "      <th></th>\n",
       "      <th></th>\n",
       "      <th></th>\n",
       "      <th></th>\n",
       "      <th></th>\n",
       "    </tr>\n",
       "  </thead>\n",
       "  <tbody>\n",
       "    <tr>\n",
       "      <th>Bavel</th>\n",
       "      <td>11.3</td>\n",
       "      <td>2.6</td>\n",
       "      <td>3.5</td>\n",
       "      <td>10.7</td>\n",
       "      <td>15.8</td>\n",
       "    </tr>\n",
       "  </tbody>\n",
       "</table>\n",
       "</div>"
      ],
      "text/plain": [
       "catetgory  Childcare  Education  Health and well-being  Hospitality  Retail\n",
       "zones                                                                      \n",
       "Bavel           11.3        2.6                    3.5         10.7    15.8"
      ]
     },
     "execution_count": 10,
     "metadata": {},
     "output_type": "execute_result"
    }
   ],
   "source": [
    "df_prox.head(1)"
   ]
  },
  {
   "cell_type": "code",
   "execution_count": 11,
   "metadata": {},
   "outputs": [
    {
     "data": {
      "text/html": [
       "<div>\n",
       "<style scoped>\n",
       "    .dataframe tbody tr th:only-of-type {\n",
       "        vertical-align: middle;\n",
       "    }\n",
       "\n",
       "    .dataframe tbody tr th {\n",
       "        vertical-align: top;\n",
       "    }\n",
       "\n",
       "    .dataframe thead th {\n",
       "        text-align: right;\n",
       "    }\n",
       "</style>\n",
       "<table border=\"1\" class=\"dataframe\">\n",
       "  <thead>\n",
       "    <tr style=\"text-align: right;\">\n",
       "      <th></th>\n",
       "      <th>Districts and neighbourhoods</th>\n",
       "      <th>Total nuisance registrations</th>\n",
       "      <th>Nuisance by confused person</th>\n",
       "      <th>Youth nuisance report</th>\n",
       "      <th>Nuisance due to alcohol/drugs</th>\n",
       "      <th>Nuisance drifters</th>\n",
       "      <th>Public intoxication</th>\n",
       "      <th>Noise nuisance catering</th>\n",
       "      <th>Noise nuisance event</th>\n",
       "      <th>Other noise nuisance</th>\n",
       "    </tr>\n",
       "  </thead>\n",
       "  <tbody>\n",
       "    <tr>\n",
       "      <th>0</th>\n",
       "      <td>Breda</td>\n",
       "      <td>5672</td>\n",
       "      <td>1800</td>\n",
       "      <td>889</td>\n",
       "      <td>675</td>\n",
       "      <td>498</td>\n",
       "      <td>49</td>\n",
       "      <td>27</td>\n",
       "      <td>15</td>\n",
       "      <td>1719</td>\n",
       "    </tr>\n",
       "  </tbody>\n",
       "</table>\n",
       "</div>"
      ],
      "text/plain": [
       "  Districts and neighbourhoods  Total nuisance registrations  \\\n",
       "0                        Breda                          5672   \n",
       "\n",
       "   Nuisance by confused person  Youth nuisance report  \\\n",
       "0                         1800                    889   \n",
       "\n",
       "   Nuisance due to alcohol/drugs  Nuisance drifters  Public intoxication  \\\n",
       "0                            675                498                   49   \n",
       "\n",
       "   Noise nuisance catering  Noise nuisance event  Other noise nuisance  \n",
       "0                       27                    15                  1719  "
      ]
     },
     "execution_count": 11,
     "metadata": {},
     "output_type": "execute_result"
    }
   ],
   "source": [
    "df_nuisance.head(1)"
   ]
  },
  {
   "cell_type": "code",
   "execution_count": 12,
   "metadata": {},
   "outputs": [
    {
     "data": {
      "text/html": [
       "<div>\n",
       "<style scoped>\n",
       "    .dataframe tbody tr th:only-of-type {\n",
       "        vertical-align: middle;\n",
       "    }\n",
       "\n",
       "    .dataframe tbody tr th {\n",
       "        vertical-align: top;\n",
       "    }\n",
       "\n",
       "    .dataframe thead th {\n",
       "        text-align: right;\n",
       "    }\n",
       "</style>\n",
       "<table border=\"1\" class=\"dataframe\">\n",
       "  <thead>\n",
       "    <tr style=\"text-align: right;\">\n",
       "      <th></th>\n",
       "      <th>neighborhood</th>\n",
       "      <th>Accidents (road)</th>\n",
       "      <th>Encroachment on public order</th>\n",
       "      <th>Fraud (other)</th>\n",
       "      <th>Horizontal Fraud</th>\n",
       "      <th>Human trafficking</th>\n",
       "      <th>Nature and landscape</th>\n",
       "      <th>Quality of life (other)</th>\n",
       "      <th>Road (other)</th>\n",
       "      <th>Spatial planning</th>\n",
       "      <th>...</th>\n",
       "      <th>Theft/burglary box/garage/shed</th>\n",
       "      <th>Theft/burglary of companies, etc.</th>\n",
       "      <th>Thefts (water)</th>\n",
       "      <th>Threat</th>\n",
       "      <th>Total felonies</th>\n",
       "      <th>Under the influence (air)</th>\n",
       "      <th>Under the influence (away)</th>\n",
       "      <th>Vertical Fraud</th>\n",
       "      <th>Waste</th>\n",
       "      <th>Water</th>\n",
       "    </tr>\n",
       "  </thead>\n",
       "  <tbody>\n",
       "    <tr>\n",
       "      <th>0</th>\n",
       "      <td>Bavel</td>\n",
       "      <td>37</td>\n",
       "      <td>0</td>\n",
       "      <td>0</td>\n",
       "      <td>54</td>\n",
       "      <td>0</td>\n",
       "      <td>0</td>\n",
       "      <td>0</td>\n",
       "      <td>5</td>\n",
       "      <td>0</td>\n",
       "      <td>...</td>\n",
       "      <td>4</td>\n",
       "      <td>5</td>\n",
       "      <td>0</td>\n",
       "      <td>16</td>\n",
       "      <td>366</td>\n",
       "      <td>0</td>\n",
       "      <td>12</td>\n",
       "      <td>0</td>\n",
       "      <td>0</td>\n",
       "      <td>0</td>\n",
       "    </tr>\n",
       "  </tbody>\n",
       "</table>\n",
       "<p>1 rows × 56 columns</p>\n",
       "</div>"
      ],
      "text/plain": [
       "  neighborhood  Accidents (road)  Encroachment on public order  Fraud (other)  \\\n",
       "0        Bavel                37                             0              0   \n",
       "\n",
       "   Horizontal Fraud  Human trafficking  Nature and landscape  \\\n",
       "0                54                  0                     0   \n",
       "\n",
       "   Quality of life (other)  Road (other)  Spatial planning  ...  \\\n",
       "0                        0             5                 0  ...   \n",
       "\n",
       "   Theft/burglary box/garage/shed  Theft/burglary of companies, etc.  \\\n",
       "0                               4                                  5   \n",
       "\n",
       "   Thefts (water)  Threat  Total felonies  Under the influence (air)  \\\n",
       "0               0      16             366                          0   \n",
       "\n",
       "   Under the influence (away)  Vertical Fraud  Waste  Water  \n",
       "0                          12               0      0      0  \n",
       "\n",
       "[1 rows x 56 columns]"
      ]
     },
     "execution_count": 12,
     "metadata": {},
     "output_type": "execute_result"
    }
   ],
   "source": [
    "df_crime.head(1)"
   ]
  },
  {
   "cell_type": "code",
   "execution_count": 13,
   "metadata": {},
   "outputs": [
    {
     "data": {
      "text/html": [
       "<div>\n",
       "<style scoped>\n",
       "    .dataframe tbody tr th:only-of-type {\n",
       "        vertical-align: middle;\n",
       "    }\n",
       "\n",
       "    .dataframe tbody tr th {\n",
       "        vertical-align: top;\n",
       "    }\n",
       "\n",
       "    .dataframe thead th {\n",
       "        text-align: right;\n",
       "    }\n",
       "</style>\n",
       "<table border=\"1\" class=\"dataframe\">\n",
       "  <thead>\n",
       "    <tr style=\"text-align: right;\">\n",
       "      <th></th>\n",
       "      <th>title</th>\n",
       "      <th>geometry</th>\n",
       "    </tr>\n",
       "  </thead>\n",
       "  <tbody>\n",
       "    <tr>\n",
       "      <th>0</th>\n",
       "      <td>the Baron</td>\n",
       "      <td>POINT (4.78469 51.59150)</td>\n",
       "    </tr>\n",
       "  </tbody>\n",
       "</table>\n",
       "</div>"
      ],
      "text/plain": [
       "       title                  geometry\n",
       "0  the Baron  POINT (4.78469 51.59150)"
      ]
     },
     "execution_count": 13,
     "metadata": {},
     "output_type": "execute_result"
    }
   ],
   "source": [
    "df_drugs.head(1)"
   ]
  },
  {
   "cell_type": "code",
   "execution_count": 14,
   "metadata": {},
   "outputs": [],
   "source": [
    "df_join = df_geo.sjoin(df_drugs, how='left')"
   ]
  },
  {
   "cell_type": "code",
   "execution_count": 15,
   "metadata": {},
   "outputs": [],
   "source": [
    "df_join = df_join.dissolve(by=['regions', 'neighborhood', 'light_count', 'sport_building_count',\n",
    "                                'workplace_count', 'inhabitants', 'light_per_1000',\n",
    "                                'sport_building_per_1000', 'area_sqkm', 'distance_from_centre_km',],\n",
    "                            aggfunc='count', as_index=False)"
   ]
  },
  {
   "cell_type": "code",
   "execution_count": 16,
   "metadata": {},
   "outputs": [],
   "source": [
    "df_join = df_join.merge(df_green_neighborhood, how='inner', left_on='neighborhood', right_on='BUURT')"
   ]
  },
  {
   "cell_type": "code",
   "execution_count": 17,
   "metadata": {},
   "outputs": [],
   "source": [
    "df_join = df_join.merge(df_jobs, how='inner', left_on='neighborhood', right_on='Buurt')"
   ]
  },
  {
   "cell_type": "code",
   "execution_count": 18,
   "metadata": {},
   "outputs": [],
   "source": [
    "df_join = df_join.drop(['BUURT', 'Buurt', 'index_right'], axis=1)\n",
    "df_join = df_join.rename(columns={\n",
    "    'title': 'drug_store_count',\n",
    "    'Value': 'jobs_count'\n",
    "})"
   ]
  },
  {
   "cell_type": "code",
   "execution_count": 19,
   "metadata": {},
   "outputs": [],
   "source": [
    "df_join = df_join.merge(df_price, how='left', on='neighborhood')"
   ]
  },
  {
   "cell_type": "code",
   "execution_count": 20,
   "metadata": {},
   "outputs": [],
   "source": [
    "df_join = df_join.merge(df_crime, how='left', on='neighborhood')"
   ]
  },
  {
   "cell_type": "code",
   "execution_count": 21,
   "metadata": {},
   "outputs": [],
   "source": [
    "df_join = df_join.merge(df_nuisance, how='left', left_on='neighborhood', right_on='Districts and neighbourhoods')\n",
    "df_join = df_join.drop('Districts and neighbourhoods', axis=1)"
   ]
  },
  {
   "cell_type": "code",
   "execution_count": 22,
   "metadata": {},
   "outputs": [],
   "source": [
    "df_join = df_join.merge(df_prox, how='left', left_on='neighborhood', right_on='zones')"
   ]
  },
  {
   "cell_type": "code",
   "execution_count": 23,
   "metadata": {},
   "outputs": [],
   "source": [
    "df_join['proximity_score'] = (df_join['Childcare']+df_join['Education']+df_join['Health and well-being']\n",
    "                                +df_join['Hospitality']+df_join['Retail']) / 5"
   ]
  },
  {
   "cell_type": "code",
   "execution_count": 24,
   "metadata": {},
   "outputs": [
    {
     "data": {
      "text/plain": [
       "Index(['regions', 'neighborhood', 'light_count', 'sport_building_count',\n",
       "       'workplace_count', 'inhabitants', 'light_per_1000',\n",
       "       'sport_building_per_1000', 'area_sqkm', 'distance_from_centre_km',\n",
       "       'geometry', 'drug_store_count', 'green_score', 'livability_score',\n",
       "       'jobs_count', 'price_2015', 'price_2016', 'price_2017', 'price_2018',\n",
       "       'price_2019', 'price_2020', 'price_2021', 'price_2022',\n",
       "       'Accidents (road)', 'Encroachment on public order', 'Fraud (other)',\n",
       "       'Horizontal Fraud', 'Human trafficking', 'Nature and landscape',\n",
       "       'Quality of life (other)', 'Road (other)', 'Spatial planning',\n",
       "       'Special Laws', 'Transport of hazardous substances',\n",
       "       'Under the influence (water)', 'Abuse', 'Air (other)', 'Animals',\n",
       "       'Arms Trade', 'Building materials', 'Cybercrime',\n",
       "       'Destruction or. property damage', 'Discrimination',\n",
       "       'Domestic Violation', 'Drug trafficking', 'Drugs/drink nuisance',\n",
       "       'Fire/Explosion', 'Fireworks', 'Food safety', 'Home theft/burglary',\n",
       "       'Immigration care', 'Most', 'Motor Vehicle Theft',\n",
       "       'Murder, Manslaughter', 'Neighbor rumor (relationship problems)',\n",
       "       'Open violence (person)', 'Other property crimes', 'People smuggling',\n",
       "       'Pesticides', 'Pickpocketing', 'Robbery', 'Shoplifting', 'Soil',\n",
       "       'Street robbery', 'Structure of the Environmental Management Act',\n",
       "       'Theft from/from motor vehicles', 'Theft from/from/from ov. vehicles',\n",
       "       'Theft of mopeds, mopeds and bicycles',\n",
       "       'Theft/burglary box/garage/shed', 'Theft/burglary of companies, etc.',\n",
       "       'Thefts (water)', 'Threat', 'Total felonies',\n",
       "       'Under the influence (air)', 'Under the influence (away)',\n",
       "       'Vertical Fraud', 'Waste', 'Water', 'Total nuisance registrations',\n",
       "       'Nuisance by confused person', 'Youth nuisance report',\n",
       "       'Nuisance due to alcohol/drugs', 'Nuisance drifters',\n",
       "       'Public intoxication', 'Noise nuisance catering',\n",
       "       'Noise nuisance event', 'Other noise nuisance', 'Childcare',\n",
       "       'Education', 'Health and well-being', 'Hospitality', 'Retail',\n",
       "       'proximity_score'],\n",
       "      dtype='object')"
      ]
     },
     "execution_count": 24,
     "metadata": {},
     "output_type": "execute_result"
    }
   ],
   "source": [
    "df_join.columns"
   ]
  },
  {
   "cell_type": "code",
   "execution_count": 25,
   "metadata": {},
   "outputs": [],
   "source": [
    "df_join = df_join[['regions', 'neighborhood', 'light_count', 'sport_building_count',\n",
    "       'workplace_count', 'inhabitants', 'light_per_1000',\n",
    "       'sport_building_per_1000', 'area_sqkm', 'distance_from_centre_km',\n",
    "       'drug_store_count', 'green_score', 'livability_score',\n",
    "       'jobs_count', 'price_2015', 'price_2016', 'price_2017', 'price_2018',\n",
    "       'price_2019', 'price_2020', 'price_2021', 'price_2022',\n",
    "       'Accidents (road)', 'Encroachment on public order', 'Fraud (other)',\n",
    "       'Horizontal Fraud', 'Human trafficking', 'Nature and landscape',\n",
    "       'Quality of life (other)', 'Road (other)', 'Spatial planning',\n",
    "       'Special Laws', 'Transport of hazardous substances',\n",
    "       'Under the influence (water)', 'Abuse', 'Air (other)', 'Animals',\n",
    "       'Arms Trade', 'Building materials', 'Cybercrime',\n",
    "        'Discrimination',\n",
    "       'Domestic Violation', 'Drug trafficking', 'Drugs/drink nuisance',\n",
    "       'Fire/Explosion', 'Fireworks', 'Food safety', 'Home theft/burglary',\n",
    "       'Immigration care', 'Most', 'Motor Vehicle Theft',\n",
    "       'Murder, Manslaughter', 'Neighbor rumor (relationship problems)',\n",
    "       'Open violence (person)', 'Other property crimes', 'People smuggling',\n",
    "       'Pesticides', 'Pickpocketing', 'Robbery', 'Shoplifting', 'Soil',\n",
    "       'Street robbery', 'Structure of the Environmental Management Act',\n",
    "       'Theft from/from motor vehicles',\n",
    "       'Theft of mopeds, mopeds and bicycles',\n",
    "       'Theft/burglary box/garage/shed', 'Theft/burglary of companies, etc.',\n",
    "       'Thefts (water)', 'Threat', 'Total felonies',\n",
    "       'Under the influence (air)', 'Under the influence (away)',\n",
    "       'Vertical Fraud', 'Waste', 'Water', 'Total nuisance registrations',\n",
    "       'Nuisance by confused person', 'Youth nuisance report',\n",
    "       'Nuisance due to alcohol/drugs', 'Nuisance drifters',\n",
    "       'Public intoxication', 'Noise nuisance catering',\n",
    "       'Noise nuisance event', 'Other noise nuisance', 'Childcare',\n",
    "       'Education', 'Health and well-being', 'Hospitality', 'Retail', 'proximity_score', 'geometry']]"
   ]
  },
  {
   "cell_type": "code",
   "execution_count": 26,
   "metadata": {},
   "outputs": [],
   "source": [
    "df_join = df_join.rename(columns={'Under the influence (away)': 'Under the influence (road)'})"
   ]
  },
  {
   "cell_type": "code",
   "execution_count": 27,
   "metadata": {},
   "outputs": [
    {
     "data": {
      "text/html": [
       "<div>\n",
       "<style scoped>\n",
       "    .dataframe tbody tr th:only-of-type {\n",
       "        vertical-align: middle;\n",
       "    }\n",
       "\n",
       "    .dataframe tbody tr th {\n",
       "        vertical-align: top;\n",
       "    }\n",
       "\n",
       "    .dataframe thead th {\n",
       "        text-align: right;\n",
       "    }\n",
       "</style>\n",
       "<table border=\"1\" class=\"dataframe\">\n",
       "  <thead>\n",
       "    <tr style=\"text-align: right;\">\n",
       "      <th></th>\n",
       "      <th>regions</th>\n",
       "      <th>neighborhood</th>\n",
       "      <th>light_count</th>\n",
       "      <th>sport_building_count</th>\n",
       "      <th>workplace_count</th>\n",
       "      <th>inhabitants</th>\n",
       "      <th>light_per_1000</th>\n",
       "      <th>sport_building_per_1000</th>\n",
       "      <th>area_sqkm</th>\n",
       "      <th>distance_from_centre_km</th>\n",
       "      <th>...</th>\n",
       "      <th>Noise nuisance catering</th>\n",
       "      <th>Noise nuisance event</th>\n",
       "      <th>Other noise nuisance</th>\n",
       "      <th>Childcare</th>\n",
       "      <th>Education</th>\n",
       "      <th>Health and well-being</th>\n",
       "      <th>Hospitality</th>\n",
       "      <th>Retail</th>\n",
       "      <th>proximity_score</th>\n",
       "      <th>geometry</th>\n",
       "    </tr>\n",
       "  </thead>\n",
       "  <tbody>\n",
       "    <tr>\n",
       "      <th>0</th>\n",
       "      <td>Bavel</td>\n",
       "      <td>Bavel</td>\n",
       "      <td>1253</td>\n",
       "      <td>2</td>\n",
       "      <td>2</td>\n",
       "      <td>5445</td>\n",
       "      <td>230.119376</td>\n",
       "      <td>0.367309</td>\n",
       "      <td>1.750374</td>\n",
       "      <td>4.59422</td>\n",
       "      <td>...</td>\n",
       "      <td>0.0</td>\n",
       "      <td>3.0</td>\n",
       "      <td>24.0</td>\n",
       "      <td>11.3</td>\n",
       "      <td>2.6</td>\n",
       "      <td>3.5</td>\n",
       "      <td>10.7</td>\n",
       "      <td>15.8</td>\n",
       "      <td>8.78</td>\n",
       "      <td>POLYGON ((4.83844 51.56120, 4.83911 51.56024, ...</td>\n",
       "    </tr>\n",
       "  </tbody>\n",
       "</table>\n",
       "<p>1 rows × 91 columns</p>\n",
       "</div>"
      ],
      "text/plain": [
       "  regions neighborhood  light_count  sport_building_count  workplace_count  \\\n",
       "0   Bavel        Bavel         1253                     2                2   \n",
       "\n",
       "   inhabitants  light_per_1000  sport_building_per_1000  area_sqkm  \\\n",
       "0         5445      230.119376                 0.367309   1.750374   \n",
       "\n",
       "   distance_from_centre_km  ...  Noise nuisance catering  \\\n",
       "0                  4.59422  ...                      0.0   \n",
       "\n",
       "   Noise nuisance event  Other noise nuisance  Childcare  Education  \\\n",
       "0                   3.0                  24.0       11.3        2.6   \n",
       "\n",
       "   Health and well-being  Hospitality  Retail  proximity_score  \\\n",
       "0                    3.5         10.7    15.8             8.78   \n",
       "\n",
       "                                            geometry  \n",
       "0  POLYGON ((4.83844 51.56120, 4.83911 51.56024, ...  \n",
       "\n",
       "[1 rows x 91 columns]"
      ]
     },
     "execution_count": 27,
     "metadata": {},
     "output_type": "execute_result"
    }
   ],
   "source": [
    "df_join.head(1)"
   ]
  },
  {
   "cell_type": "code",
   "execution_count": 28,
   "metadata": {},
   "outputs": [
    {
     "data": {
      "text/plain": [
       "(56, 91)"
      ]
     },
     "execution_count": 28,
     "metadata": {},
     "output_type": "execute_result"
    }
   ],
   "source": [
    "df_join.shape"
   ]
  },
  {
   "cell_type": "code",
   "execution_count": 29,
   "metadata": {},
   "outputs": [],
   "source": [
    "df_join.to_file(\"data_merged\\\\full_join.geojson\", driver='GeoJSON')"
   ]
  }
 ],
 "metadata": {
  "kernelspec": {
   "display_name": "tf",
   "language": "python",
   "name": "python3"
  },
  "language_info": {
   "codemirror_mode": {
    "name": "ipython",
    "version": 3
   },
   "file_extension": ".py",
   "mimetype": "text/x-python",
   "name": "python",
   "nbconvert_exporter": "python",
   "pygments_lexer": "ipython3",
   "version": "3.10.4"
  },
  "orig_nbformat": 4
 },
 "nbformat": 4,
 "nbformat_minor": 2
}
